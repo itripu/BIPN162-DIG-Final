{
 "cells": [
  {
   "cell_type": "markdown",
   "metadata": {},
   "source": [
    "# DIG Final Project"
   ]
  },
  {
   "cell_type": "markdown",
   "metadata": {},
   "source": [
    "## Team Member Names & Contributions\n",
    "*Feel free to name your team, but please also include your real names and IDs here. Please specify who in your group worked on which parts of the project.*\n",
    "\n",
    "- **Gabriella Bulli**: You know, blowing up things and such.\n",
    "- **Deborah Chen**: Cleverly sneaking into small spaces\n",
    "- **Isha Tripuraneni**: AKA The \"Muscle\""
   ]
  },
  {
   "cell_type": "markdown",
   "metadata": {},
   "source": [
    "## Abstract"
   ]
  },
  {
   "cell_type": "markdown",
   "metadata": {},
   "source": [
    "*Fill in your 3-4 sentence abstract here*"
   ]
  },
  {
   "cell_type": "markdown",
   "metadata": {},
   "source": [
    "## Research Question"
   ]
  },
  {
   "cell_type": "markdown",
   "metadata": {},
   "source": [
    " Does high expression of Alzheimer’s risk genes—namely APOE and PICALM—correlate with measures of neural activity, such as EEG activity, along with any differences in cognitive function, such as memory, intelligence, mood, and personality?"
   ]
  },
  {
   "cell_type": "markdown",
   "metadata": {},
   "source": [
    "# Background and Prior Work"
   ]
  },
  {
   "cell_type": "markdown",
   "metadata": {},
   "source": [
    "Alzheimer’s disease (AD) is a neurodegenerative disorder with increased prevalence in elders. It is the most prevalent form of dementia, accounting for more than half of the cases. It causes cognitive decline shown by memory loss and drastic mood changes. While there isn’t a current cure for AD, much research has gone into characterizing the pathology of and risk factors for AD. Among the contributing factors to AD are genetics, epigenetics, and environment, with over 600 AD-associated genes identified (Bertram et al., 2007).   \n",
    "\n",
    "Electroencephalography (EEG) is a common non-invasive technique that measures brain activity from the scalp (Maturana-Candelas et al., 2019). AD patients have shown a significantly slower EEG. Further, their theta band frequencies are disrupted, corresponding to rodent studies (Macedo et al., 2021). Theta oscillations generally function to support spatial memory and navigation. fMRI is also useful for studying neurodegeneration to view functional connectivity across brain regions by measuring the correlation of blood oxygenation level-dependent (BOLD) time activations in various regions of the brain (Dennis et al., 2014). fMRI can visualize brain activity during working memory, attention, and motor tasks. Taken together, EEG and fMRI can explore the temporal and spatial effects AD may have on brain activity (Aramadaka et al., 2023).   \n",
    "\n",
    "The apolipoprotein E (APOE) ɛ4 allele is one of the major AD genetic risk factors. APOE ɛ4 fragmentation leads to Amyloid-beta (Aβ) plaque formation, which plays a role in AD progression (Muñoz et al., 2019). Different brain regions all show a noticeable increase in complexity patterns recorded via EEG for individuals with APOE ɛ4 allele, which can be associated with neural degeneration (Gutiérrez-de Pablo et al., 2020). Another AD-associated factor is phosphatidylinositol binding clathrin-assembly protein (PICALM), which plays an important role in clathrin-mediated processes, including endocytosis during molecular signaling. Furthermore, PICALM risk alleles may disrupt the Aβ clearance mechanism (Ando et al., 2020). Maturana-Candelas et al. (2021) analyzed PICALM variants' effects on EEG activity and found that certain PICALM risk alleles were associated with disrupted beta power, which can describe cognitive processes that are often disrupted by Aβ plaque formation and the pathology of AD.\n",
    "\n",
    "We will use the PEARL-Neuro database, which contains multiple data modalities. The database collected genetic, demographic and health, and psychometric data from 192 participants. In stage 2 of the experiment, they collected neuroimaging data—EEG and fMRI—and blood test data from 79 of the participants who demonstrated AD susceptibility.\n",
    "\n",
    "### References (include links):\n",
    "(1)\n",
    "\n",
    "(2)"
   ]
  },
  {
   "cell_type": "markdown",
   "metadata": {},
   "source": [
    "## Hypothesis\n"
   ]
  },
  {
   "cell_type": "markdown",
   "metadata": {},
   "source": [
    "*Fill in your hypotheses here*"
   ]
  },
  {
   "cell_type": "markdown",
   "metadata": {},
   "source": [
    "## Setup\n",
    "*Are there packages that need to be imported, or datasets that need to be downloaded?*"
   ]
  },
  {
   "cell_type": "code",
   "execution_count": null,
   "metadata": {},
   "outputs": [],
   "source": [
    "## YOUR CODE HERE"
   ]
  },
  {
   "cell_type": "markdown",
   "metadata": {},
   "source": [
    "# Data Wrangling"
   ]
  },
  {
   "cell_type": "markdown",
   "metadata": {},
   "source": [
    "Describe your data wrangling steps here."
   ]
  },
  {
   "cell_type": "code",
   "execution_count": 4,
   "metadata": {},
   "outputs": [],
   "source": [
    "## YOUR CODE HERE\n",
    "## FEEL FREE TO ADD MULTIPLE CELLS PER SECTION"
   ]
  },
  {
   "cell_type": "markdown",
   "metadata": {},
   "source": [
    "## Data Analysis & Results"
   ]
  },
  {
   "cell_type": "markdown",
   "metadata": {},
   "source": [
    "Include cells that describe the steps in your data analysis."
   ]
  },
  {
   "cell_type": "code",
   "execution_count": 5,
   "metadata": {},
   "outputs": [],
   "source": [
    "## YOUR CODE HERE\n",
    "## FEEL FREE TO ADD MULTIPLE CELLS PER SECTION"
   ]
  },
  {
   "cell_type": "markdown",
   "metadata": {},
   "source": [
    "# Conclusion & Discussion"
   ]
  },
  {
   "cell_type": "markdown",
   "metadata": {},
   "source": [
    "*Fill in your discussion information here*"
   ]
  }
 ],
 "metadata": {
  "kernelspec": {
   "display_name": "Python 3 (ipykernel)",
   "language": "python",
   "name": "python3"
  },
  "language_info": {
   "codemirror_mode": {
    "name": "ipython",
    "version": 3
   },
   "file_extension": ".py",
   "mimetype": "text/x-python",
   "name": "python",
   "nbconvert_exporter": "python",
   "pygments_lexer": "ipython3",
   "version": "3.9.5"
  }
 },
 "nbformat": 4,
 "nbformat_minor": 2
}
